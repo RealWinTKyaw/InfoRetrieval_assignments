{
 "cells": [
  {
   "cell_type": "markdown",
   "id": "eef52244",
   "metadata": {},
   "source": [
    "Win Tun (1005265)"
   ]
  },
  {
   "cell_type": "markdown",
   "id": "e986f250",
   "metadata": {},
   "source": [
    "# Part 1: Precision@K"
   ]
  },
  {
   "cell_type": "code",
   "execution_count": 1,
   "id": "9c6e2abe",
   "metadata": {},
   "outputs": [],
   "source": [
    "import numpy as np\n",
    "def precision_at_k(r, k):\n",
    "    assert k >= 1\n",
    "    r = np.asarray(r)[:k] != 0\n",
    "    if r.size != k:\n",
    "        raise ValueError('Relevance score length < k')\n",
    "    return np.mean(r)"
   ]
  },
  {
   "cell_type": "markdown",
   "id": "23d823ed",
   "metadata": {},
   "source": [
    "# Part 2: Average Precision"
   ]
  },
  {
   "cell_type": "code",
   "execution_count": 2,
   "id": "8b318a76",
   "metadata": {},
   "outputs": [],
   "source": [
    "def average_precision(r):\n",
    "    rel_docs = 0\n",
    "    sum_of_precisions = 0\n",
    "    for i in range(len(r)):\n",
    "        if r[i]:\n",
    "            rel_docs += r[i]\n",
    "            sum_of_precisions += precision_at_k(r, i+1)\n",
    "    if not rel_docs:\n",
    "        return 0\n",
    "    avg_p = (1/rel_docs)*sum_of_precisions\n",
    "    return avg_p"
   ]
  },
  {
   "cell_type": "code",
   "execution_count": 3,
   "id": "61996794",
   "metadata": {},
   "outputs": [
    {
     "name": "stdout",
     "output_type": "stream",
     "text": [
      "0.7833333333333333\n"
     ]
    }
   ],
   "source": [
    "r = [1, 1, 0, 1, 0, 1, 0, 0, 0, 1]\n",
    "print(average_precision(r))"
   ]
  },
  {
   "cell_type": "markdown",
   "id": "6b0b4433",
   "metadata": {},
   "source": [
    "# Part 3: Mean Average Precision"
   ]
  },
  {
   "cell_type": "code",
   "execution_count": 4,
   "id": "8feb1941",
   "metadata": {},
   "outputs": [],
   "source": [
    "def mean_average_precision(rs):\n",
    "    avg_precision_sum = 0\n",
    "    for r in rs:\n",
    "        avg_precision_sum += average_precision(r)\n",
    "    m_avg_p = avg_precision_sum/len(rs)\n",
    "    return m_avg_p"
   ]
  },
  {
   "cell_type": "code",
   "execution_count": 5,
   "id": "6c5d7e34",
   "metadata": {},
   "outputs": [
    {
     "name": "stdout",
     "output_type": "stream",
     "text": [
      "0.39166666666666666\n"
     ]
    }
   ],
   "source": [
    "rs = [[1, 1, 0, 1, 0, 1, 0, 0, 0, 1], [0]]\n",
    "print(mean_average_precision(rs))"
   ]
  },
  {
   "cell_type": "markdown",
   "id": "c6102c58",
   "metadata": {},
   "source": [
    "# Part 4: DCG@K"
   ]
  },
  {
   "cell_type": "code",
   "execution_count": 6,
   "id": "69624224",
   "metadata": {},
   "outputs": [],
   "source": [
    "def dcg_at_k(r, k, method=0):\n",
    "    result = r[0]\n",
    "    index = 1\n",
    "    if method:\n",
    "        result = 0\n",
    "        index = 0\n",
    "    while index < k and index < len(r):\n",
    "        result += r[index]/np.log2(1+index+method)\n",
    "        index += 1\n",
    "    return result"
   ]
  },
  {
   "cell_type": "code",
   "execution_count": 7,
   "id": "4a48d860",
   "metadata": {},
   "outputs": [
    {
     "name": "stdout",
     "output_type": "stream",
     "text": [
      "3\n",
      "3.0\n",
      "5.0\n",
      "4.2618595071429155\n",
      "9.605117739188811\n",
      "9.605117739188811\n"
     ]
    }
   ],
   "source": [
    "r = [3, 2, 3, 0, 0, 1, 2, 2, 3, 0]\n",
    "print(dcg_at_k(r, 1))\n",
    "print(dcg_at_k(r, 1, method=1))\n",
    "print(dcg_at_k(r, 2))\n",
    "print(dcg_at_k(r, 2, method=1))\n",
    "print(dcg_at_k(r, 10))\n",
    "print(dcg_at_k(r, 11))"
   ]
  },
  {
   "cell_type": "markdown",
   "id": "f47c7c42",
   "metadata": {},
   "source": [
    "# Part 5: NDCG@K"
   ]
  },
  {
   "cell_type": "code",
   "execution_count": 8,
   "id": "aa86306c",
   "metadata": {},
   "outputs": [],
   "source": [
    "def ndcg_at_k(r, k, method=0):\n",
    "    import copy\n",
    "    r2 = copy.copy(r)\n",
    "    r2.sort(reverse=True)\n",
    "    dcg = dcg_at_k(r, k, method)\n",
    "    ideal_dcg = dcg_at_k(r2, k, method)\n",
    "    return dcg/ideal_dcg"
   ]
  },
  {
   "cell_type": "code",
   "execution_count": 9,
   "id": "30aa4c36",
   "metadata": {},
   "outputs": [
    {
     "name": "stdout",
     "output_type": "stream",
     "text": [
      "1.0\n",
      "0.9203032077642922\n",
      "0.9651954696014428\n",
      "1.0\n"
     ]
    }
   ],
   "source": [
    "r = [3, 2, 3, 0, 0, 1, 2, 2, 3, 0]\n",
    "print(ndcg_at_k(r, 1))\n",
    "r = [2, 1, 2, 0]\n",
    "print(ndcg_at_k(r, 4))\n",
    "print(ndcg_at_k(r, 4, method=1))\n",
    "print(ndcg_at_k([1], 2))"
   ]
  },
  {
   "cell_type": "markdown",
   "id": "73f11dc4",
   "metadata": {},
   "source": [
    "# Tests"
   ]
  },
  {
   "cell_type": "code",
   "execution_count": 10,
   "id": "3e664cde",
   "metadata": {},
   "outputs": [
    {
     "name": "stdout",
     "output_type": "stream",
     "text": [
      "0.44285714285714284\n",
      "0.6222222222222222\n",
      "0.5325396825396825\n",
      "1.6\n",
      "0.638787886479598\n"
     ]
    }
   ],
   "source": [
    "print(average_precision([0,1,0,0,1,0,1,0,0,0]))\n",
    "print(average_precision([1,0,1,0,0,1,0,0,1,1]))\n",
    "print(mean_average_precision([[1,0,1,0,0,1,0,0,1,1],[0,1,0,0,1,0,1,0,0,0]]))\n",
    "print(dcg_at_k([1.0,0.6,0.0,0.8,0.0,1.0,0.0,0.0,0.0,0.0,0.0,0.2,0.0],3))\n",
    "print(ndcg_at_k([1.0,0.6,0.0,0.8,0.0,1.0,0.0,0.0,0.0,0.0,0.0,0.2,0.0],3))"
   ]
  },
  {
   "cell_type": "code",
   "execution_count": null,
   "id": "00d5126b",
   "metadata": {},
   "outputs": [],
   "source": []
  }
 ],
 "metadata": {
  "kernelspec": {
   "display_name": "Python 3 (ipykernel)",
   "language": "python",
   "name": "python3"
  },
  "language_info": {
   "codemirror_mode": {
    "name": "ipython",
    "version": 3
   },
   "file_extension": ".py",
   "mimetype": "text/x-python",
   "name": "python",
   "nbconvert_exporter": "python",
   "pygments_lexer": "ipython3",
   "version": "3.9.12"
  }
 },
 "nbformat": 4,
 "nbformat_minor": 5
}
