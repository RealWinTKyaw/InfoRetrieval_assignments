{
 "cells": [
  {
   "cell_type": "markdown",
   "id": "4b622b2f",
   "metadata": {},
   "source": [
    "# Assignment 1"
   ]
  },
  {
   "cell_type": "markdown",
   "id": "433fead3",
   "metadata": {},
   "source": [
    "Win Tun Kyaw (1005265)"
   ]
  },
  {
   "cell_type": "markdown",
   "id": "c0459a35",
   "metadata": {},
   "source": [
    "### Define corpus"
   ]
  },
  {
   "cell_type": "code",
   "execution_count": 1,
   "id": "c09bac67",
   "metadata": {},
   "outputs": [],
   "source": [
    "doc1 = ['breakthrough', 'drug', 'for', 'schizophrenia']\n",
    "doc2 = ['new', 'schizophrenia', 'drug']\n",
    "doc3 = ['new', 'approach', 'for', 'treatment', 'of', 'schizophrenia']\n",
    "doc4 = ['new', 'hopes', 'for', 'schizophrenia', 'patients']\n",
    "\n",
    "corpus = [doc1, doc2, doc3, doc4]"
   ]
  },
  {
   "cell_type": "markdown",
   "id": "74baa563",
   "metadata": {},
   "source": [
    "### Create <term, docID> pairs"
   ]
  },
  {
   "cell_type": "code",
   "execution_count": 2,
   "id": "c80f7353",
   "metadata": {},
   "outputs": [
    {
     "name": "stdout",
     "output_type": "stream",
     "text": [
      "[['approach', 3], ['breakthrough', 1], ['drug', 1], ['drug', 2], ['for', 1], ['for', 3], ['for', 4], ['hopes', 4], ['new', 2], ['new', 3], ['new', 4], ['of', 3], ['patients', 4], ['schizophrenia', 1], ['schizophrenia', 2], ['schizophrenia', 3], ['schizophrenia', 4], ['treatment', 3]]\n"
     ]
    }
   ],
   "source": [
    "token_docID_pairs = []\n",
    "\n",
    "for doc in corpus:\n",
    "    _id = corpus.index(doc) + 1\n",
    "    for term in doc:\n",
    "        pair = [term, _id]\n",
    "        token_docID_pairs.append(pair)\n",
    "        \n",
    "token_docID_pairs = sorted(token_docID_pairs, key=lambda x: (x[0], x[1]))\n",
    "print(token_docID_pairs)"
   ]
  },
  {
   "cell_type": "markdown",
   "id": "76da209d",
   "metadata": {},
   "source": [
    "### Create inverted index"
   ]
  },
  {
   "cell_type": "code",
   "execution_count": 3,
   "id": "dd79ca13",
   "metadata": {},
   "outputs": [],
   "source": [
    "result = {}\n",
    "\n",
    "for pair in token_docID_pairs:\n",
    "    if pair[0] in result:\n",
    "        result[pair[0]].append(pair[1])\n",
    "    else:\n",
    "        result.update({pair[0] : [pair[1]]})"
   ]
  },
  {
   "cell_type": "markdown",
   "id": "715a715d",
   "metadata": {},
   "source": [
    "### Print result"
   ]
  },
  {
   "cell_type": "code",
   "execution_count": 4,
   "id": "d728b421",
   "metadata": {},
   "outputs": [
    {
     "name": "stdout",
     "output_type": "stream",
     "text": [
      "approach  -->  [3]\n",
      "breakthrough  -->  [1]\n",
      "drug  -->  [1, 2]\n",
      "for  -->  [1, 3, 4]\n",
      "hopes  -->  [4]\n",
      "new  -->  [2, 3, 4]\n",
      "of  -->  [3]\n",
      "patients  -->  [4]\n",
      "schizophrenia  -->  [1, 2, 3, 4]\n",
      "treatment  -->  [3]\n"
     ]
    }
   ],
   "source": [
    "for key in result:\n",
    "    print(key, \" --> \", result.get(key))"
   ]
  },
  {
   "cell_type": "markdown",
   "id": "e27dc980",
   "metadata": {},
   "source": [
    "### Assemble all components"
   ]
  },
  {
   "cell_type": "code",
   "execution_count": 5,
   "id": "7d198f30",
   "metadata": {},
   "outputs": [],
   "source": [
    "def inverted_index(input_corpus):\n",
    "    token_docID_pairs = []\n",
    "    for doc in input_corpus:\n",
    "        _id = corpus.index(doc) + 1\n",
    "        for term in doc:\n",
    "            pair = [term, _id]\n",
    "            token_docID_pairs.append(pair)\n",
    "    token_docID_pairs = sorted(token_docID_pairs, key=lambda x: (x[0], x[1]))\n",
    "    \n",
    "    result = {}\n",
    "    for pair in token_docID_pairs:\n",
    "        if pair[0] in result:\n",
    "            result[pair[0]].append(pair[1])\n",
    "        else:\n",
    "            result.update({pair[0] : [pair[1]]})\n",
    "            \n",
    "    for key in result:\n",
    "        print(key, \" --> \", result.get(key))"
   ]
  },
  {
   "cell_type": "code",
   "execution_count": 6,
   "id": "ca83b6b1",
   "metadata": {},
   "outputs": [
    {
     "name": "stdout",
     "output_type": "stream",
     "text": [
      "approach  -->  [3]\n",
      "breakthrough  -->  [1]\n",
      "drug  -->  [1, 2]\n",
      "for  -->  [1, 3, 4]\n",
      "hopes  -->  [4]\n",
      "new  -->  [2, 3, 4]\n",
      "of  -->  [3]\n",
      "patients  -->  [4]\n",
      "schizophrenia  -->  [1, 2, 3, 4]\n",
      "treatment  -->  [3]\n"
     ]
    }
   ],
   "source": [
    "inverted_index(corpus)"
   ]
  }
 ],
 "metadata": {
  "kernelspec": {
   "display_name": "Python 3 (ipykernel)",
   "language": "python",
   "name": "python3"
  },
  "language_info": {
   "codemirror_mode": {
    "name": "ipython",
    "version": 3
   },
   "file_extension": ".py",
   "mimetype": "text/x-python",
   "name": "python",
   "nbconvert_exporter": "python",
   "pygments_lexer": "ipython3",
   "version": "3.9.12"
  }
 },
 "nbformat": 4,
 "nbformat_minor": 5
}
