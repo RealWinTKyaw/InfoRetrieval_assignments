{
 "cells": [
  {
   "cell_type": "markdown",
   "id": "00108cc8",
   "metadata": {},
   "source": [
    "# Assignment 3"
   ]
  },
  {
   "cell_type": "markdown",
   "id": "9929ba35",
   "metadata": {},
   "source": [
    "Win Tun Kyaw (1005265)"
   ]
  },
  {
   "cell_type": "code",
   "execution_count": 1,
   "id": "9fc793ba",
   "metadata": {},
   "outputs": [],
   "source": [
    "doc1 = {'we', 'love', 'information', 'retrieval', 'course'}\n",
    "doc2 = {'information', 'retrieval', 'is', 'a', 'course', 'offered', 'in', 'sutd'}"
   ]
  },
  {
   "cell_type": "code",
   "execution_count": 2,
   "id": "e5d3c406",
   "metadata": {},
   "outputs": [],
   "source": [
    "def jaccard_similarity(d1, d2):\n",
    "    intersect_count = len(d1.intersection(d2))\n",
    "    union_count = len(d1.union(d2))\n",
    "    result = intersect_count/union_count\n",
    "    print(result)\n",
    "    return result"
   ]
  },
  {
   "cell_type": "code",
   "execution_count": 3,
   "id": "1639192c",
   "metadata": {},
   "outputs": [
    {
     "name": "stdout",
     "output_type": "stream",
     "text": [
      "0.3\n"
     ]
    }
   ],
   "source": [
    "answer = jaccard_similarity(doc1, doc2)"
   ]
  }
 ],
 "metadata": {
  "kernelspec": {
   "display_name": "Python 3 (ipykernel)",
   "language": "python",
   "name": "python3"
  },
  "language_info": {
   "codemirror_mode": {
    "name": "ipython",
    "version": 3
   },
   "file_extension": ".py",
   "mimetype": "text/x-python",
   "name": "python",
   "nbconvert_exporter": "python",
   "pygments_lexer": "ipython3",
   "version": "3.9.12"
  }
 },
 "nbformat": 4,
 "nbformat_minor": 5
}
