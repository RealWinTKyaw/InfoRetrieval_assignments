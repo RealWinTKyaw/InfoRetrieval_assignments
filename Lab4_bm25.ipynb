{
 "cells": [
  {
   "cell_type": "markdown",
   "id": "016bf543",
   "metadata": {},
   "source": [
    "Win Tun Kyaw (1005265)"
   ]
  },
  {
   "cell_type": "markdown",
   "id": "740369f5",
   "metadata": {},
   "source": [
    "## Excercise 3"
   ]
  },
  {
   "cell_type": "markdown",
   "id": "19a15890",
   "metadata": {},
   "source": [
    "## Part A"
   ]
  },
  {
   "cell_type": "code",
   "execution_count": 1,
   "id": "816fd323",
   "metadata": {},
   "outputs": [
    {
     "name": "stdout",
     "output_type": "stream",
     "text": [
      "{'a': 1, 'b': 2, 'c': 1, 'd': 1}\n"
     ]
    }
   ],
   "source": [
    "doc1 = ['a', 'b', 'b', 'c', 'd']\n",
    "\n",
    "def tf_(doc):\n",
    "    frequencies = {}\n",
    "    for term in doc:\n",
    "        if term in frequencies:\n",
    "            frequencies[term] += 1\n",
    "        else:\n",
    "            frequencies[term] = 1\n",
    "    return frequencies\n",
    "\n",
    "tf = tf_(doc1)\n",
    "print(tf)"
   ]
  },
  {
   "cell_type": "markdown",
   "id": "65c6d8d4",
   "metadata": {},
   "source": [
    "## Part B"
   ]
  },
  {
   "cell_type": "code",
   "execution_count": 2,
   "id": "bc517e5f",
   "metadata": {},
   "outputs": [
    {
     "name": "stdout",
     "output_type": "stream",
     "text": [
      "{'a': 1, 'b': 2, 'c': 3, 'd': 2, 'e': 1}\n"
     ]
    }
   ],
   "source": [
    "doc2 = [['a', 'b', 'c'], ['b', 'c', 'd'], ['c', 'd', 'e']]\n",
    "\n",
    "def df_(docs):\n",
    "    df = {}\n",
    "    for doc in docs:\n",
    "        for term in doc:\n",
    "            if term in df:\n",
    "                df[term] += 1\n",
    "            else:\n",
    "                df[term] = 1\n",
    "    return df\n",
    "\n",
    "df = df_(doc2)\n",
    "print(df)"
   ]
  },
  {
   "cell_type": "markdown",
   "id": "37fa221b",
   "metadata": {},
   "source": [
    "## Provided Code"
   ]
  },
  {
   "cell_type": "code",
   "execution_count": 3,
   "id": "5458a014",
   "metadata": {},
   "outputs": [
    {
     "name": "stdout",
     "output_type": "stream",
     "text": [
      "{'a': 1.1, 'b': 0.41, 'c': 0.0, 'd': 0.41, 'e': 1.1}\n"
     ]
    }
   ],
   "source": [
    "doc3 = {'a': 1, 'b': 2, 'c': 3, 'd': 2, 'e': 1}\n",
    "\n",
    "def idf_(df, corpus_size):\n",
    "    import math\n",
    "    idf = {}\n",
    "    for term, freq in df.items():\n",
    "        idf[term] = round(math.log((corpus_size) / (freq)),2)\n",
    "    return idf\n",
    "\n",
    "idf = idf_(df, len(doc2))\n",
    "print(idf)"
   ]
  },
  {
   "cell_type": "markdown",
   "id": "b2663ff6",
   "metadata": {},
   "source": [
    "## Part C"
   ]
  },
  {
   "cell_type": "code",
   "execution_count": 4,
   "id": "0cbe6e22",
   "metadata": {},
   "outputs": [
    {
     "name": "stdout",
     "output_type": "stream",
     "text": [
      "0.41\n"
     ]
    }
   ],
   "source": [
    "query = ['b', 'c', 'e']\n",
    "doc4 = ['b', 'c', 'd']\n",
    "docs = [['a', 'b', 'c'], ['b', 'c', 'd'], ['c', 'd', 'e']]\n",
    "def _score(query, doc, docs, k1=1.5, b=0.75):\n",
    "    score = 0.0\n",
    "    tf = tf_(doc)\n",
    "    df = df_(docs)\n",
    "    idf = idf_(df, len(docs))\n",
    "    avg_doc_len = sum(len(doc_) for doc_ in docs)/len(docs)\n",
    "    for term in query:\n",
    "        if term not in tf.keys():\n",
    "            continue\n",
    "        import math\n",
    "        score += round(math.log(len(docs)/df[term])* # log term\n",
    "                       (((k1+1)*tf[term])/ # numerator\n",
    "                        (k1*((1-b)+b*(len(doc)/avg_doc_len))+tf[term])) # denominator\n",
    "                       , 2)\n",
    "    return score\n",
    "\n",
    "score = _score(query, doc4, docs)\n",
    "print(score)"
   ]
  }
 ],
 "metadata": {
  "kernelspec": {
   "display_name": "Python 3 (ipykernel)",
   "language": "python",
   "name": "python3"
  },
  "language_info": {
   "codemirror_mode": {
    "name": "ipython",
    "version": 3
   },
   "file_extension": ".py",
   "mimetype": "text/x-python",
   "name": "python",
   "nbconvert_exporter": "python",
   "pygments_lexer": "ipython3",
   "version": "3.9.12"
  }
 },
 "nbformat": 4,
 "nbformat_minor": 5
}
